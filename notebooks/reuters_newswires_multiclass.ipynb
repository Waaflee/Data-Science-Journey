{
 "metadata": {
  "orig_nbformat": 4,
  "kernelspec": {
   "name": "python3",
   "display_name": "Python 3",
   "language": "python"
  },
  "language_info": {
   "name": "python",
   "version": "3.6.9",
   "mimetype": "text/x-python",
   "codemirror_mode": {
    "name": "ipython",
    "version": 3
   },
   "pygments_lexer": "ipython3",
   "nbconvert_exporter": "python",
   "file_extension": ".py"
  }
 },
 "nbformat": 4,
 "nbformat_minor": 2,
 "cells": [
  {
   "cell_type": "code",
   "execution_count": 1,
   "source": [
    "from keras.datasets import reuters\n",
    "\n",
    "(train_data, train_labels), (test_data, test_labels) = reuters.load_data(num_words=10000)"
   ],
   "outputs": [
    {
     "output_type": "stream",
     "name": "stdout",
     "text": [
      "Downloading data from https://storage.googleapis.com/tensorflow/tf-keras-datasets/reuters.npz\n",
      "2113536/2110848 [==============================] - 22s 11us/step\n",
      "2121728/2110848 [==============================] - 22s 11us/step\n"
     ]
    }
   ],
   "metadata": {}
  },
  {
   "cell_type": "code",
   "execution_count": 2,
   "source": [
    "import numpy as np\n",
    "\n",
    "def vectorize_sequences(sequences, dimension=10000):\n",
    "    results = np.zeros((len(sequences), dimension))\n",
    "    for i, sequence in enumerate(sequences):\n",
    "        results[i, sequence] = 1.\n",
    "    return results\n",
    "\n",
    "# Our vectorized training data\n",
    "x_train = vectorize_sequences(train_data)\n",
    "# Our vectorized test data\n",
    "x_test = vectorize_sequences(test_data)\n",
    "\n",
    "\n",
    "def to_one_hot(labels, dimension=46):\n",
    "    results = np.zeros((len(labels), dimension))\n",
    "    for i, label in enumerate(labels):\n",
    "        results[i, label] = 1.\n",
    "    return results\n",
    "\n",
    "# Our vectorized training labels\n",
    "one_hot_train_labels = to_one_hot(train_labels)\n",
    "# Our vectorized test labels\n",
    "one_hot_test_labels = to_one_hot(test_labels)"
   ],
   "outputs": [],
   "metadata": {}
  },
  {
   "cell_type": "code",
   "execution_count": 3,
   "source": [
    "from tensorflow.keras import models\n",
    "from tensorflow.keras import layers\n",
    "\n",
    "model = models.Sequential()\n",
    "model.add(layers.Dense(32, activation='relu', input_shape=(10000,)))\n",
    "model.add(layers.Dense(32, activation='relu'))\n",
    "model.add(layers.Dense(46, activation='softmax'))\n",
    "\n",
    "model.compile(optimizer='rmsprop',\n",
    "    loss='categorical_crossentropy',\n",
    "    metrics=['accuracy']\n",
    "    )"
   ],
   "outputs": [],
   "metadata": {}
  },
  {
   "cell_type": "code",
   "execution_count": 13,
   "source": [
    "%%time\n",
    "\n",
    "split_value = 1000\n",
    "\n",
    "x_val = x_train[:split_value]\n",
    "partial_x_train = x_train[split_value:]\n",
    "y_val = one_hot_train_labels[:split_value]\n",
    "partial_y_train = one_hot_train_labels[split_value:]\n",
    "\n",
    "history = model.fit(partial_x_train,\n",
    "    partial_y_train,\n",
    "    epochs=9,\n",
    "    batch_size=512,\n",
    "    validation_data=(x_val, y_val)\n",
    "    )\n",
    "\n"
   ],
   "outputs": [
    {
     "output_type": "stream",
     "name": "stdout",
     "text": [
      "Epoch 1/80\n",
      "499/499 [==============================] - 1s 2ms/step - loss: 0.1441 - accuracy: 0.9562 - val_loss: 1.3399 - val_accuracy: 0.7840\n",
      "Epoch 2/80\n",
      "499/499 [==============================] - 1s 1ms/step - loss: 0.1424 - accuracy: 0.9565 - val_loss: 1.4365 - val_accuracy: 0.7860\n",
      "Epoch 3/80\n",
      "499/499 [==============================] - 1s 1ms/step - loss: 0.1378 - accuracy: 0.9592 - val_loss: 1.5234 - val_accuracy: 0.7800\n",
      "Epoch 4/80\n",
      "499/499 [==============================] - 1s 1ms/step - loss: 0.1378 - accuracy: 0.9597 - val_loss: 1.4696 - val_accuracy: 0.7820\n",
      "Epoch 5/80\n",
      "499/499 [==============================] - 1s 1ms/step - loss: 0.1342 - accuracy: 0.9578 - val_loss: 1.6269 - val_accuracy: 0.7850\n",
      "Epoch 6/80\n",
      "499/499 [==============================] - 1s 1ms/step - loss: 0.1375 - accuracy: 0.9578 - val_loss: 1.5444 - val_accuracy: 0.7890\n",
      "Epoch 7/80\n",
      "499/499 [==============================] - 1s 1ms/step - loss: 0.1355 - accuracy: 0.9568 - val_loss: 1.6546 - val_accuracy: 0.7890\n",
      "Epoch 8/80\n",
      "499/499 [==============================] - 1s 1ms/step - loss: 0.1306 - accuracy: 0.9590 - val_loss: 1.8188 - val_accuracy: 0.7900\n",
      "Epoch 9/80\n",
      "499/499 [==============================] - 1s 1ms/step - loss: 0.1344 - accuracy: 0.9594 - val_loss: 1.9217 - val_accuracy: 0.7840\n",
      "Epoch 10/80\n",
      "499/499 [==============================] - 1s 1ms/step - loss: 0.1329 - accuracy: 0.9590 - val_loss: 1.8753 - val_accuracy: 0.7830\n",
      "Epoch 11/80\n",
      "499/499 [==============================] - 1s 1ms/step - loss: 0.1285 - accuracy: 0.9604 - val_loss: 1.9671 - val_accuracy: 0.7860\n",
      "Epoch 12/80\n",
      "499/499 [==============================] - 1s 1ms/step - loss: 0.1313 - accuracy: 0.9584 - val_loss: 2.0729 - val_accuracy: 0.7890\n",
      "Epoch 13/80\n",
      "499/499 [==============================] - 1s 2ms/step - loss: 0.1305 - accuracy: 0.9599 - val_loss: 2.0173 - val_accuracy: 0.7810\n",
      "Epoch 14/80\n",
      "499/499 [==============================] - 1s 2ms/step - loss: 0.1250 - accuracy: 0.9600 - val_loss: 2.3800 - val_accuracy: 0.7750\n",
      "Epoch 15/80\n",
      "499/499 [==============================] - 1s 2ms/step - loss: 0.1314 - accuracy: 0.9589 - val_loss: 2.3049 - val_accuracy: 0.7830\n",
      "Epoch 16/80\n",
      "499/499 [==============================] - 1s 2ms/step - loss: 0.1234 - accuracy: 0.9605 - val_loss: 2.3645 - val_accuracy: 0.7790\n",
      "Epoch 17/80\n",
      "499/499 [==============================] - 1s 1ms/step - loss: 0.1203 - accuracy: 0.9610 - val_loss: 2.6549 - val_accuracy: 0.7810\n",
      "Epoch 18/80\n",
      "499/499 [==============================] - 1s 1ms/step - loss: 0.1222 - accuracy: 0.9605 - val_loss: 2.6762 - val_accuracy: 0.7790\n",
      "Epoch 19/80\n",
      "499/499 [==============================] - 1s 1ms/step - loss: 0.1173 - accuracy: 0.9589 - val_loss: 2.8755 - val_accuracy: 0.7650\n",
      "Epoch 20/80\n",
      "499/499 [==============================] - 1s 1ms/step - loss: 0.1201 - accuracy: 0.9597 - val_loss: 2.7581 - val_accuracy: 0.7770\n",
      "Epoch 21/80\n",
      "499/499 [==============================] - 1s 1ms/step - loss: 0.1167 - accuracy: 0.9595 - val_loss: 3.0262 - val_accuracy: 0.7670\n",
      "Epoch 22/80\n",
      "499/499 [==============================] - 1s 1ms/step - loss: 0.1172 - accuracy: 0.9618 - val_loss: 3.1371 - val_accuracy: 0.7720\n",
      "Epoch 23/80\n",
      "499/499 [==============================] - 1s 1ms/step - loss: 0.1160 - accuracy: 0.9598 - val_loss: 3.1596 - val_accuracy: 0.7620\n",
      "Epoch 24/80\n",
      "499/499 [==============================] - 1s 1ms/step - loss: 0.1152 - accuracy: 0.9605 - val_loss: 3.1708 - val_accuracy: 0.7700\n",
      "Epoch 25/80\n",
      "499/499 [==============================] - 1s 1ms/step - loss: 0.1166 - accuracy: 0.9598 - val_loss: 3.5851 - val_accuracy: 0.7610\n",
      "Epoch 26/80\n",
      "499/499 [==============================] - 1s 1ms/step - loss: 0.1134 - accuracy: 0.9603 - val_loss: 3.5373 - val_accuracy: 0.7580\n",
      "Epoch 27/80\n",
      "499/499 [==============================] - 1s 1ms/step - loss: 0.1134 - accuracy: 0.9599 - val_loss: 3.6148 - val_accuracy: 0.7680\n",
      "Epoch 28/80\n",
      "499/499 [==============================] - 1s 1ms/step - loss: 0.1117 - accuracy: 0.9605 - val_loss: 3.4427 - val_accuracy: 0.7650\n",
      "Epoch 29/80\n",
      "499/499 [==============================] - 1s 1ms/step - loss: 0.1112 - accuracy: 0.9610 - val_loss: 3.5725 - val_accuracy: 0.7640\n",
      "Epoch 30/80\n",
      "499/499 [==============================] - 1s 1ms/step - loss: 0.1112 - accuracy: 0.9613 - val_loss: 3.9375 - val_accuracy: 0.7600\n",
      "Epoch 31/80\n",
      "499/499 [==============================] - 1s 1ms/step - loss: 0.1182 - accuracy: 0.9600 - val_loss: 4.4530 - val_accuracy: 0.7620\n",
      "Epoch 32/80\n",
      "499/499 [==============================] - 1s 1ms/step - loss: 0.1073 - accuracy: 0.9620 - val_loss: 4.0493 - val_accuracy: 0.7580\n",
      "Epoch 33/80\n",
      "499/499 [==============================] - 1s 1ms/step - loss: 0.1109 - accuracy: 0.9613 - val_loss: 4.5442 - val_accuracy: 0.7560\n",
      "Epoch 34/80\n",
      "499/499 [==============================] - 1s 1ms/step - loss: 0.1133 - accuracy: 0.9605 - val_loss: 4.3865 - val_accuracy: 0.7650\n",
      "Epoch 35/80\n",
      "499/499 [==============================] - 1s 1ms/step - loss: 0.1059 - accuracy: 0.9622 - val_loss: 4.6095 - val_accuracy: 0.7590\n",
      "Epoch 36/80\n",
      "499/499 [==============================] - 1s 1ms/step - loss: 0.1097 - accuracy: 0.9607 - val_loss: 4.4751 - val_accuracy: 0.7550\n",
      "Epoch 37/80\n",
      "499/499 [==============================] - 1s 1ms/step - loss: 0.1091 - accuracy: 0.9610 - val_loss: 4.8016 - val_accuracy: 0.7640\n",
      "Epoch 38/80\n",
      "499/499 [==============================] - 1s 1ms/step - loss: 0.1103 - accuracy: 0.9618 - val_loss: 4.5499 - val_accuracy: 0.7520\n",
      "Epoch 39/80\n",
      "499/499 [==============================] - 1s 1ms/step - loss: 0.1067 - accuracy: 0.9594 - val_loss: 5.0003 - val_accuracy: 0.7570\n",
      "Epoch 40/80\n",
      "499/499 [==============================] - 1s 1ms/step - loss: 0.1082 - accuracy: 0.9623 - val_loss: 4.9147 - val_accuracy: 0.7630\n",
      "Epoch 41/80\n",
      "499/499 [==============================] - 1s 1ms/step - loss: 0.1091 - accuracy: 0.9613 - val_loss: 5.1436 - val_accuracy: 0.7600\n",
      "Epoch 42/80\n",
      "499/499 [==============================] - 1s 1ms/step - loss: 0.1044 - accuracy: 0.9605 - val_loss: 5.0779 - val_accuracy: 0.7470\n",
      "Epoch 43/80\n",
      "499/499 [==============================] - 1s 1ms/step - loss: 0.1065 - accuracy: 0.9617 - val_loss: 5.5091 - val_accuracy: 0.7550\n",
      "Epoch 44/80\n",
      "499/499 [==============================] - 1s 1ms/step - loss: 0.1040 - accuracy: 0.9604 - val_loss: 5.7804 - val_accuracy: 0.7530\n",
      "Epoch 45/80\n",
      "499/499 [==============================] - 1s 1ms/step - loss: 0.1069 - accuracy: 0.9637 - val_loss: 5.5562 - val_accuracy: 0.7550\n",
      "Epoch 46/80\n",
      "499/499 [==============================] - 1s 1ms/step - loss: 0.1033 - accuracy: 0.9624 - val_loss: 5.5953 - val_accuracy: 0.7490\n",
      "Epoch 47/80\n",
      "499/499 [==============================] - 1s 1ms/step - loss: 0.1066 - accuracy: 0.9613 - val_loss: 5.7252 - val_accuracy: 0.7600\n",
      "Epoch 48/80\n",
      "499/499 [==============================] - 1s 1ms/step - loss: 0.1053 - accuracy: 0.9628 - val_loss: 6.0041 - val_accuracy: 0.7570\n",
      "Epoch 49/80\n",
      "499/499 [==============================] - 1s 1ms/step - loss: 0.1028 - accuracy: 0.9628 - val_loss: 6.1862 - val_accuracy: 0.7480\n",
      "Epoch 50/80\n",
      "499/499 [==============================] - 1s 1ms/step - loss: 0.1023 - accuracy: 0.9620 - val_loss: 6.3564 - val_accuracy: 0.7580\n",
      "Epoch 51/80\n",
      "499/499 [==============================] - 1s 1ms/step - loss: 0.1070 - accuracy: 0.9604 - val_loss: 6.0649 - val_accuracy: 0.7460\n",
      "Epoch 52/80\n",
      "499/499 [==============================] - 1s 1ms/step - loss: 0.1032 - accuracy: 0.9615 - val_loss: 6.4643 - val_accuracy: 0.7560\n",
      "Epoch 53/80\n",
      "499/499 [==============================] - 1s 1ms/step - loss: 0.1116 - accuracy: 0.9604 - val_loss: 6.6493 - val_accuracy: 0.7550\n",
      "Epoch 54/80\n",
      "499/499 [==============================] - 1s 1ms/step - loss: 0.1029 - accuracy: 0.9634 - val_loss: 7.0952 - val_accuracy: 0.7530\n",
      "Epoch 55/80\n",
      "499/499 [==============================] - 1s 1ms/step - loss: 0.1049 - accuracy: 0.9610 - val_loss: 6.9464 - val_accuracy: 0.7520\n",
      "Epoch 56/80\n",
      "499/499 [==============================] - 1s 1ms/step - loss: 0.1067 - accuracy: 0.9630 - val_loss: 7.0485 - val_accuracy: 0.7480\n",
      "Epoch 57/80\n",
      "499/499 [==============================] - 1s 1ms/step - loss: 0.1108 - accuracy: 0.9615 - val_loss: 7.3981 - val_accuracy: 0.7440\n",
      "Epoch 58/80\n",
      "499/499 [==============================] - 1s 1ms/step - loss: 0.1086 - accuracy: 0.9624 - val_loss: 7.2347 - val_accuracy: 0.7390\n",
      "Epoch 59/80\n",
      "499/499 [==============================] - 1s 1ms/step - loss: 0.1013 - accuracy: 0.9623 - val_loss: 7.6027 - val_accuracy: 0.7490\n",
      "Epoch 60/80\n",
      "499/499 [==============================] - 1s 1ms/step - loss: 0.1053 - accuracy: 0.9628 - val_loss: 7.3163 - val_accuracy: 0.7330\n",
      "Epoch 61/80\n",
      "499/499 [==============================] - 1s 1ms/step - loss: 0.1023 - accuracy: 0.9614 - val_loss: 7.2952 - val_accuracy: 0.7400\n",
      "Epoch 62/80\n",
      "499/499 [==============================] - 1s 1ms/step - loss: 0.0999 - accuracy: 0.9630 - val_loss: 8.1805 - val_accuracy: 0.7480\n",
      "Epoch 63/80\n",
      "499/499 [==============================] - 1s 1ms/step - loss: 0.1041 - accuracy: 0.9605 - val_loss: 8.2170 - val_accuracy: 0.7430\n",
      "Epoch 64/80\n",
      "499/499 [==============================] - 1s 1ms/step - loss: 0.1016 - accuracy: 0.9613 - val_loss: 7.9012 - val_accuracy: 0.7400\n",
      "Epoch 65/80\n",
      "499/499 [==============================] - 1s 1ms/step - loss: 0.1131 - accuracy: 0.9618 - val_loss: 8.5476 - val_accuracy: 0.7340\n",
      "Epoch 66/80\n",
      "499/499 [==============================] - 1s 1ms/step - loss: 0.1037 - accuracy: 0.9617 - val_loss: 8.7389 - val_accuracy: 0.7460\n",
      "Epoch 67/80\n",
      "499/499 [==============================] - 1s 1ms/step - loss: 0.1068 - accuracy: 0.9619 - val_loss: 8.8564 - val_accuracy: 0.7350\n",
      "Epoch 68/80\n",
      "499/499 [==============================] - 1s 1ms/step - loss: 0.1085 - accuracy: 0.9614 - val_loss: 9.2233 - val_accuracy: 0.7300\n",
      "Epoch 69/80\n",
      "499/499 [==============================] - 1s 1ms/step - loss: 0.0979 - accuracy: 0.9630 - val_loss: 8.9256 - val_accuracy: 0.7400\n",
      "Epoch 70/80\n",
      "499/499 [==============================] - 1s 2ms/step - loss: 0.1083 - accuracy: 0.9619 - val_loss: 9.5070 - val_accuracy: 0.7410\n",
      "Epoch 71/80\n",
      "499/499 [==============================] - 1s 1ms/step - loss: 0.1050 - accuracy: 0.9629 - val_loss: 9.4202 - val_accuracy: 0.7310\n",
      "Epoch 72/80\n",
      "499/499 [==============================] - 1s 1ms/step - loss: 0.1088 - accuracy: 0.9633 - val_loss: 9.8813 - val_accuracy: 0.7250\n",
      "Epoch 73/80\n",
      "499/499 [==============================] - 1s 1ms/step - loss: 0.1082 - accuracy: 0.9615 - val_loss: 10.4316 - val_accuracy: 0.7350\n",
      "Epoch 74/80\n",
      "499/499 [==============================] - 1s 1ms/step - loss: 0.1043 - accuracy: 0.9610 - val_loss: 10.3665 - val_accuracy: 0.7370\n",
      "Epoch 75/80\n",
      "499/499 [==============================] - 1s 1ms/step - loss: 0.1094 - accuracy: 0.9597 - val_loss: 10.8388 - val_accuracy: 0.7190\n",
      "Epoch 76/80\n",
      "499/499 [==============================] - 1s 1ms/step - loss: 0.1044 - accuracy: 0.9599 - val_loss: 10.7267 - val_accuracy: 0.7230\n",
      "Epoch 77/80\n",
      "499/499 [==============================] - 1s 1ms/step - loss: 0.1024 - accuracy: 0.9624 - val_loss: 10.7486 - val_accuracy: 0.7160\n",
      "Epoch 78/80\n",
      "499/499 [==============================] - 1s 2ms/step - loss: 0.1191 - accuracy: 0.9632 - val_loss: 10.9895 - val_accuracy: 0.7190\n",
      "Epoch 79/80\n",
      "499/499 [==============================] - 1s 1ms/step - loss: 0.1094 - accuracy: 0.9622 - val_loss: 11.2423 - val_accuracy: 0.7290\n",
      "Epoch 80/80\n",
      "499/499 [==============================] - 1s 1ms/step - loss: 0.1094 - accuracy: 0.9620 - val_loss: 11.2704 - val_accuracy: 0.7070\n",
      "CPU times: user 5min 47s, sys: 33.6 s, total: 6min 21s\n",
      "Wall time: 58 s\n"
     ]
    }
   ],
   "metadata": {}
  },
  {
   "cell_type": "code",
   "execution_count": 5,
   "source": [
    "results = model.evaluate(x_test, one_hot_test_labels)\n",
    "print(results)"
   ],
   "outputs": [
    {
     "output_type": "stream",
     "name": "stdout",
     "text": [
      "71/71 [==============================] - 0s 490us/step - loss: 1.0447 - accuracy: 0.7707\n",
      "[1.0447083711624146, 0.7707034945487976]\n"
     ]
    }
   ],
   "metadata": {}
  },
  {
   "cell_type": "code",
   "execution_count": 6,
   "source": [
    "import matplotlib.pyplot as plt\n",
    "\n",
    "loss = history.history['loss']\n",
    "val_loss = history.history['val_loss']\n",
    "epochs = range(1, len(loss) + 1)\n",
    "\n",
    "plt.plot(epochs, loss, 'bo', label='Training loss')\n",
    "plt.plot(epochs, val_loss, 'b', label='Validation loss')\n",
    "plt.title('Training and validation loss')\n",
    "plt.xlabel('Epochs')\n",
    "plt.ylabel('Loss')\n",
    "plt.legend()\n",
    "plt.show()"
   ],
   "outputs": [
    {
     "output_type": "display_data",
     "data": {
      "image/png": "[encoded data removed]",
      "text/plain": [
       "<Figure size 432x288 with 1 Axes>"
      ]
     },
     "metadata": {
      "needs_background": "light"
     }
    }
   ],
   "metadata": {}
  },
  {
   "cell_type": "code",
   "execution_count": 7,
   "source": [
    "plt.clf()\n",
    "# clear figure\n",
    "acc = history.history['accuracy']\n",
    "val_acc = history.history['val_accuracy']\n",
    "plt.plot(epochs, acc, 'bo', label='Training acc')\n",
    "plt.plot(epochs, val_acc, 'b', label='Validation acc')\n",
    "plt.title('Training and validation accuracy')\n",
    "plt.xlabel('Epochs')\n",
    "plt.ylabel('Loss')\n",
    "plt.legend()\n",
    "plt.show()"
   ],
   "outputs": [
    {
     "output_type": "display_data",
     "data": {
      "image/png": "[encoded data removed]",
      "text/plain": [
       "<Figure size 432x288 with 1 Axes>"
      ]
     },
     "metadata": {
      "needs_background": "light"
     }
    }
   ],
   "metadata": {}
  },
  {
   "cell_type": "code",
   "execution_count": 8,
   "source": [
    "predictions = model.predict(x_test)\n",
    "predictions[0].shape\n",
    "np.sum(predictions[0])\n",
    "np.argmax(predictions[0])"
   ],
   "outputs": [
    {
     "output_type": "execute_result",
     "data": {
      "text/plain": [
       "3"
      ]
     },
     "metadata": {},
     "execution_count": 8
    }
   ],
   "metadata": {}
  },
  {
   "cell_type": "code",
   "execution_count": null,
   "source": [],
   "outputs": [],
   "metadata": {}
  }
 ]
}